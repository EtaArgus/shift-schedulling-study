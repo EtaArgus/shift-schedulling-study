{
 "cells": [
  {
   "cell_type": "code",
   "execution_count": 2,
   "metadata": {},
   "outputs": [],
   "source": [
    "import pulp\n",
    "import numpy as np"
   ]
  },
  {
   "cell_type": "code",
   "execution_count": 11,
   "metadata": {},
   "outputs": [
    {
     "data": {
      "text/plain": [
       "1"
      ]
     },
     "execution_count": 11,
     "metadata": {},
     "output_type": "execute_result"
    }
   ],
   "source": [
    "# Parámetros del problema\n",
    "full_time_daily_hours = 8  # Horas diarias continuas para full-time\n",
    "part_time_daily_hours = 4  # Horas diarias continuas para part-time\n",
    "full_time_hours_per_week = 40  # Máximo de horas por semana para full-time\n",
    "part_time_hours_per_week = 20  # Máximo de horas por semana para part-time\n",
    "cost_full_time = 10 * full_time_hours_per_week  # Costo por semana para full-time\n",
    "cost_part_time = 15 * part_time_hours_per_week  # Costo por semana para part-time\n",
    "\n",
    "# Demanda horaria (matriz de 7 días x 13 horas)\n",
    "demanda = np.array([\n",
    "    [2, 2, 3, 3, 5, 5, 4],  # 8-10 AM\n",
    "    [2, 2, 3, 3, 5, 5, 4],  # 10-12 PM\n",
    "    [3, 3, 4, 4, 5, 6, 6],  # 12-14 PM\n",
    "    [5, 5, 5, 5, 6, 8, 8],  # 14-16 PM\n",
    "    [4, 4, 4, 4, 5, 6, 6],  # 16-18 PM\n",
    "    [5, 5, 5, 5, 6, 7, 7],  # 18-21 PM\n",
    "    [4, 4, 4, 4, 5, 6, 6]   # 21-23 PM\n",
    "])\n",
    "\n",
    "# Crear el problema de optimización\n",
    "problem = pulp.LpProblem(\"Staffing_Problem\", pulp.LpMinimize)\n",
    "\n",
    "# Variables de decisión: número de contratos full-time y part-time por día y hora de inicio\n",
    "full_time_shifts = pulp.LpVariable.dicts(\"FT_Shift\", [(d, h) for d in range(7) for h in range(13 - full_time_daily_hours + 1)], \n",
    "                                         lowBound=0, cat='Integer')\n",
    "part_time_shifts = pulp.LpVariable.dicts(\"PT_Shift\", [(d, h) for d in range(7) for h in range(13 - part_time_daily_hours + 1)], \n",
    "                                         lowBound=0, cat='Integer')\n",
    "\n",
    "# Función objetivo: minimizar el costo total\n",
    "problem += pulp.lpSum([full_time_shifts[(d, h)] * cost_full_time for d in range(7) for h in range(13 - full_time_daily_hours + 1)]) + \\\n",
    "           pulp.lpSum([part_time_shifts[(d, h)] * cost_part_time for d in range(7) for h in range(13 - part_time_daily_hours + 1)]), \"Total Cost\"\n",
    "\n",
    "# Restricciones: cubrir la demanda horaria diaria con los turnos\n",
    "for d in range(7):  # Para cada día de la semana\n",
    "    for h in range(7):  # Para cada hora (7 horas de la matriz demanda)\n",
    "        # Cobertura por full-time: verificamos que la hora de inicio esté en el rango permitido\n",
    "        ft_coverage = pulp.lpSum([full_time_shifts[(d, h_start)] for h_start in range(max(0, h - full_time_daily_hours + 1), min(h + 1, 13 - full_time_daily_hours + 1))])\n",
    "        \n",
    "        # Cobertura por part-time: verificamos que la hora de inicio esté en el rango permitido\n",
    "        pt_coverage = pulp.lpSum([part_time_shifts[(d, h_start)] for h_start in range(max(0, h - part_time_daily_hours + 1), min(h + 1, 13 - part_time_daily_hours + 1))])\n",
    "        \n",
    "        # La cobertura total debe ser al menos la demanda en esa hora\n",
    "        problem += ft_coverage + pt_coverage >= demanda[h, d], f\"Coverage_day{d}_hour{h}\"\n",
    "\n",
    "# Resolver el problema\n",
    "problem.solve()"
   ]
  },
  {
   "cell_type": "code",
   "execution_count": 12,
   "metadata": {},
   "outputs": [
    {
     "name": "stdout",
     "output_type": "stream",
     "text": [
      "Status: Optimal\n",
      "Coste mínimo: 14900.00\n",
      "Turnos Full-time:\n",
      "  Día 0, inicio 0: 2.0 trabajador(es) full-time\n",
      "  Día 1, inicio 0: 2.0 trabajador(es) full-time\n",
      "  Día 2, inicio 0: 3.0 trabajador(es) full-time\n",
      "  Día 3, inicio 0: 3.0 trabajador(es) full-time\n",
      "  Día 4, inicio 0: 5.0 trabajador(es) full-time\n",
      "  Día 5, inicio 0: 4.0 trabajador(es) full-time\n",
      "  Día 6, inicio 0: 3.0 trabajador(es) full-time\n",
      "  Día 6, inicio 1: 1.0 trabajador(es) full-time\n",
      "Turnos Part-time:\n",
      "  Día 0, inicio 2: 1.0 trabajador(es) part-time\n",
      "  Día 0, inicio 3: 2.0 trabajador(es) part-time\n",
      "  Día 1, inicio 2: 1.0 trabajador(es) part-time\n",
      "  Día 1, inicio 3: 2.0 trabajador(es) part-time\n",
      "  Día 2, inicio 2: 1.0 trabajador(es) part-time\n",
      "  Día 2, inicio 3: 1.0 trabajador(es) part-time\n",
      "  Día 3, inicio 2: 1.0 trabajador(es) part-time\n",
      "  Día 3, inicio 3: 1.0 trabajador(es) part-time\n",
      "  Día 4, inicio 2: 1.0 trabajador(es) part-time\n",
      "  Día 5, inicio 0: 1.0 trabajador(es) part-time\n",
      "  Día 5, inicio 2: 1.0 trabajador(es) part-time\n",
      "  Día 5, inicio 3: 2.0 trabajador(es) part-time\n",
      "  Día 6, inicio 0: 1.0 trabajador(es) part-time\n",
      "  Día 6, inicio 2: 1.0 trabajador(es) part-time\n",
      "  Día 6, inicio 3: 2.0 trabajador(es) part-time\n"
     ]
    }
   ],
   "source": [
    "# Imprimir resultados\n",
    "print(f\"Status: {pulp.LpStatus[problem.status]}\")\n",
    "print(f\"Coste mínimo: {pulp.value(problem.objective):.2f}\")\n",
    "\n",
    "# Imprimir los turnos asignados\n",
    "print(\"Turnos Full-time:\")\n",
    "for d in range(7):\n",
    "    for h in range(13 - full_time_daily_hours + 1):\n",
    "        if pulp.value(full_time_shifts[(d, h)]) > 0:\n",
    "            print(f\"  Día {d}, inicio {h}: {pulp.value(full_time_shifts[(d, h)])} trabajador(es) full-time\")\n",
    "\n",
    "print(\"Turnos Part-time:\")\n",
    "for d in range(7):\n",
    "    for h in range(13 - part_time_daily_hours + 1):\n",
    "        if pulp.value(part_time_shifts[(d, h)]) > 0:\n",
    "            print(f\"  Día {d}, inicio {h}: {pulp.value(part_time_shifts[(d, h)])} trabajador(es) part-time\")"
   ]
  },
  {
   "cell_type": "code",
   "execution_count": null,
   "metadata": {},
   "outputs": [],
   "source": []
  }
 ],
 "metadata": {
  "kernelspec": {
   "display_name": ".venv",
   "language": "python",
   "name": "python3"
  },
  "language_info": {
   "codemirror_mode": {
    "name": "ipython",
    "version": 3
   },
   "file_extension": ".py",
   "mimetype": "text/x-python",
   "name": "python",
   "nbconvert_exporter": "python",
   "pygments_lexer": "ipython3",
   "version": "3.9.5"
  }
 },
 "nbformat": 4,
 "nbformat_minor": 2
}
